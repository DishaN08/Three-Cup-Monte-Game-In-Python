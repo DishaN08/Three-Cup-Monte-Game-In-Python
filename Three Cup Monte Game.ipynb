{
 "cells": [
  {
   "cell_type": "markdown",
   "id": "517e6dab",
   "metadata": {},
   "source": [
    "# THREE CUP MONTE GAME"
   ]
  },
  {
   "cell_type": "markdown",
   "id": "0b59a373",
   "metadata": {},
   "source": [
    "The rule of the game is very simple i.e. to correctly guess the red ball in only one of the three boxes. \n",
    "The prerequisite is just not knowing clearly what is in these boxes before guessing. That’s all."
   ]
  },
  {
   "cell_type": "code",
   "execution_count": 1,
   "id": "0f32424f",
   "metadata": {},
   "outputs": [],
   "source": [
    "from random import shuffle"
   ]
  },
  {
   "cell_type": "code",
   "execution_count": 2,
   "id": "1ea99a86",
   "metadata": {},
   "outputs": [],
   "source": [
    "hidden_O = [' ','O',' '] "
   ]
  },
  {
   "cell_type": "code",
   "execution_count": null,
   "id": "4aa7474a",
   "metadata": {},
   "outputs": [],
   "source": []
  },
  {
   "cell_type": "code",
   "execution_count": 3,
   "id": "6f73f091",
   "metadata": {},
   "outputs": [],
   "source": [
    "def three_cup_monte(hidden_O):\n",
    "    shuffle(hidden_O)\n",
    "    return hidden_O"
   ]
  },
  {
   "cell_type": "code",
   "execution_count": 4,
   "id": "d492ab3b",
   "metadata": {},
   "outputs": [],
   "source": [
    "def player_guess():\n",
    "    guess=''\n",
    "    \n",
    "    while guess not in ['0','1','2']:\n",
    "        guess= input(\"Pick a number: 0,1 or 2\")\n",
    "        \n",
    "    return int(guess)"
   ]
  },
  {
   "cell_type": "code",
   "execution_count": 5,
   "id": "67f0dfd5",
   "metadata": {},
   "outputs": [],
   "source": [
    "def check_result(hidden_O, guess):\n",
    "    \n",
    "        if hidden_O[guess]== 'O':\n",
    "            print(\"You guessed right!\")\n",
    "            \n",
    "        else:\n",
    "            print('Wrong! Better luck next time')\n",
    "            print(hidden_O)\n",
    "            "
   ]
  },
  {
   "cell_type": "code",
   "execution_count": 6,
   "id": "4acb6ef3",
   "metadata": {},
   "outputs": [
    {
     "name": "stdout",
     "output_type": "stream",
     "text": [
      "Pick a number: 0,1 or 22\n",
      "You guessed right!\n"
     ]
    }
   ],
   "source": [
    "#To run all the functions\n",
    "\n",
    "# Initial List\n",
    "hidden_O = [' ','O',' ']\n",
    "\n",
    "# Shuffle It\n",
    "shuffled_list = three_cup_monte(hidden_O)\n",
    "\n",
    "# Get User's Guess\n",
    "guess = player_guess()\n",
    "\n",
    "# Check User's Guess\n",
    "check_result(shuffled_list,guess)"
   ]
  },
  {
   "cell_type": "code",
   "execution_count": null,
   "id": "152a157f",
   "metadata": {},
   "outputs": [],
   "source": []
  },
  {
   "cell_type": "code",
   "execution_count": null,
   "id": "c2c82036",
   "metadata": {},
   "outputs": [],
   "source": []
  }
 ],
 "metadata": {
  "kernelspec": {
   "display_name": "Python 3",
   "language": "python",
   "name": "python3"
  },
  "language_info": {
   "codemirror_mode": {
    "name": "ipython",
    "version": 3
   },
   "file_extension": ".py",
   "mimetype": "text/x-python",
   "name": "python",
   "nbconvert_exporter": "python",
   "pygments_lexer": "ipython3",
   "version": "3.8.8"
  }
 },
 "nbformat": 4,
 "nbformat_minor": 5
}
